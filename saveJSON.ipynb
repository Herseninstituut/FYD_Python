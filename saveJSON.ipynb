{
 "cells": [
  {
   "cell_type": "code",
   "execution_count": 1,
   "metadata": {},
   "outputs": [
    {
     "name": "stdout",
     "output_type": "stream",
     "text": [
      "{'Fields': {'project': 'Ach', 'dataset': 'Rel_V1', 'condition': 'none', 'subject': 'Tom', 'stimulus': 'RFestReverscorr', 'setup': '2Photon', 'investigator': 'Chrisvdt', 'date': '2021-02-19', 'logfile': '', 'version': '1.0'}, 'dirPath': 'I:/Users/togt/Desktop', 'Sessnr': 0}\n"
     ]
    }
   ],
   "source": [
    "import os\n",
    "import getdbfields as dlg\n",
    "from PyQt5 import QtWidgets\n",
    "import json \n",
    "\n",
    "try :\n",
    "    FP = open('FydStore.json', 'r')\n",
    "    store = json.load(FP)\n",
    "    FP.close()\n",
    "except :\n",
    "    store = {}\n",
    "    \n",
    "app = QtWidgets.QApplication([])  \n",
    "print(store)"
   ]
  },
  {
   "cell_type": "code",
   "execution_count": 2,
   "metadata": {},
   "outputs": [
    {
     "name": "stdout",
     "output_type": "stream",
     "text": [
      "{'Fields': {'project': 'Ach', 'dataset': 'Rel_V1', 'condition': 'none', 'subject': 'Bert', 'stimulus': 'RFestReverscorr', 'setup': '2Photon', 'investigator': 'Bart', 'date': '2021-02-19', 'logfile': '', 'version': '1.0'}, 'dirPath': 'I:/Users/togt/Desktop', 'Sessnr': 0}\n"
     ]
    }
   ],
   "source": [
    "w = dlg.dlgFields(store)\n",
    "w.show()\n",
    "w.Reconnect()\n",
    "app.exec_()\n",
    "\n",
    "if w.Ret == 0 :  #accepted : btn ok/cancelled\n",
    "    Fields = w.Fields \n",
    "    dir_path = w.dirPath\n",
    "    Sessnr = w.Sessnr\n",
    "    store = { \"Fields\" : Fields, \"dirPath\" : dir_path, \"Sessnr\" : Sessnr }    \n",
    "    \n",
    "    FP = open('FydStore.json', 'w')\n",
    "    json.dump(store, FP)\n",
    "    FP.close()\n",
    "    \n",
    "    print(store)"
   ]
  },
  {
   "cell_type": "code",
   "execution_count": null,
   "metadata": {},
   "outputs": [],
   "source": []
  }
 ],
 "metadata": {
  "kernelspec": {
   "display_name": "Python 3",
   "language": "python",
   "name": "python3"
  },
  "language_info": {
   "codemirror_mode": {
    "name": "ipython",
    "version": 3
   },
   "file_extension": ".py",
   "mimetype": "text/x-python",
   "name": "python",
   "nbconvert_exporter": "python",
   "pygments_lexer": "ipython3",
   "version": "3.7.9"
  }
 },
 "nbformat": 4,
 "nbformat_minor": 2
}
