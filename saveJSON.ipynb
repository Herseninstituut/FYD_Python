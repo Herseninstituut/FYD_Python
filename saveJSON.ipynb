{
 "cells": [
  {
   "cell_type": "code",
   "execution_count": 1,
   "metadata": {},
   "outputs": [
    {
     "name": "stdout",
     "output_type": "stream",
     "text": [
      "{'Fields': {'project': 'Amazing_project', 'dataset': 'receptive_field_mapping', 'condition': 'Awake', 'subject': 'goofy', 'stimulus': 'Receptive_field_stimulus', 'setup': 'Gaia', 'investigator': 'SemihS', 'date': '2025-03-13', 'logfile': 'goofy_2025-03-13_002_log', 'version': '1.0'}, 'dirPath': 'I:/Users/togt/Desktop/testjson', 'Sessnr': 2}\n"
     ]
    }
   ],
   "source": [
    "import os\n",
    "import getdbfields as dlg\n",
    "from PyQt5 import QtWidgets\n",
    "import json \n",
    "\n",
    "try :\n",
    "    FP = open('FydStore.json', 'r')\n",
    "    store = json.load(FP)\n",
    "    FP.close()\n",
    "except :\n",
    "    store = {}\n",
    "    \n",
    "app = QtWidgets.QApplication([])  \n",
    "print(store)"
   ]
  },
  {
   "cell_type": "code",
   "execution_count": 2,
   "metadata": {},
   "outputs": [
    {
     "name": "stdout",
     "output_type": "stream",
     "text": [
      "{'Fields': {'project': 'Amazing_project', 'dataset': 'receptive_field_mapping', 'condition': 'Awake', 'subject': 'goofy', 'stimulus': 'Receptive_field_stimulus', 'setup': 'Gaia', 'investigator': 'SemihS', 'date': '2025-03-13', 'logfile': 'goofy_2025-03-13_003_log', 'version': '1.0'}, 'dirPath': 'I:/Users/togt/Desktop/testjson', 'Sessnr': 3}\n"
     ]
    }
   ],
   "source": [
    "w = dlg.dlgFields(store)\n",
    "w.show()\n",
    "w.Reconnect()\n",
    "app.exec_()\n",
    "\n",
    "if w.Ret == 0 :  #accepted : btn ok/cancelled\n",
    "    Fields = w.Fields \n",
    "    dir_path = w.dirPath\n",
    "    Sessnr = w.Sessnr\n",
    "    store = { \"Fields\" : Fields, \"dirPath\" : dir_path, \"Sessnr\" : Sessnr }    \n",
    "    \n",
    "    FP = open('FydStore.json', 'w')\n",
    "    json.dump(store, FP)\n",
    "    FP.close()\n",
    "    \n",
    "    print(store)"
   ]
  },
  {
   "cell_type": "code",
   "execution_count": null,
   "metadata": {},
   "outputs": [],
   "source": []
  }
 ],
 "metadata": {
  "interpreter": {
   "hash": "57990f1ad2ea89c67ddae7f31d40c478205c5912da0fccfb7c5cfbb2b8bf17ad"
  },
  "kernelspec": {
   "display_name": "Python 3 (ipykernel)",
   "language": "python",
   "name": "python3"
  },
  "language_info": {
   "codemirror_mode": {
    "name": "ipython",
    "version": 3
   },
   "file_extension": ".py",
   "mimetype": "text/x-python",
   "name": "python",
   "nbconvert_exporter": "python",
   "pygments_lexer": "ipython3",
   "version": "3.7.9"
  }
 },
 "nbformat": 4,
 "nbformat_minor": 2
}
